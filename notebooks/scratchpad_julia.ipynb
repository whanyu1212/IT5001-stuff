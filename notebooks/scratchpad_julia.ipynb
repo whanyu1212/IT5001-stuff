{
 "cells": [
  {
   "cell_type": "code",
   "execution_count": null,
   "metadata": {},
   "outputs": [],
   "source": [
    "a,b,c = sorted([int(i) for i in input().split(' ')])\n",
    "desired_order = input()\n",
    "\n",
    "order_mapping = {'A': a, 'B': b, 'C': c}\n",
    "\n",
    "rearranged_integers = [order_mapping[letter] for letter in desired_order]\n",
    "\n",
    "# * is the unpacking operator for any iterable\n",
    "print(*rearranged_integers)\n"
   ]
  },
  {
   "cell_type": "code",
   "execution_count": null,
   "metadata": {},
   "outputs": [
    {
     "ename": "",
     "evalue": "",
     "output_type": "error",
     "traceback": [
      "\u001b[1;31mFailed to start the Kernel. \n",
      "\u001b[1;31mView Jupyter <a href='command:jupyter.viewOutput'>log</a> for further details."
     ]
    }
   ],
   "source": [
    "x = readline()"
   ]
  }
 ],
 "metadata": {
  "kernelspec": {
   "display_name": "Julia 1.9.2",
   "language": "julia",
   "name": "julia-1.9"
  },
  "language_info": {
   "file_extension": ".jl",
   "mimetype": "application/julia",
   "name": "julia",
   "version": "1.9.2"
  },
  "orig_nbformat": 4
 },
 "nbformat": 4,
 "nbformat_minor": 2
}
