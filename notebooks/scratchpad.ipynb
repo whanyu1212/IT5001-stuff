{
 "cells": [
  {
   "cell_type": "code",
   "execution_count": 26,
   "metadata": {},
   "outputs": [],
   "source": [
    "a,b,c = [int(i) for i in input().split(' ')]"
   ]
  },
  {
   "cell_type": "code",
   "execution_count": null,
   "metadata": {},
   "outputs": [],
   "source": [
    "a,b,c  = map(int, input().split())"
   ]
  },
  {
   "cell_type": "code",
   "execution_count": null,
   "metadata": {},
   "outputs": [],
   "source": [
    "a,b,c = [int(i) for i in input().split(' ')]"
   ]
  },
  {
   "cell_type": "code",
   "execution_count": 27,
   "metadata": {},
   "outputs": [],
   "source": [
    "desired_order = input()"
   ]
  },
  {
   "cell_type": "code",
   "execution_count": 28,
   "metadata": {},
   "outputs": [
    {
     "name": "stdout",
     "output_type": "stream",
     "text": [
      "2 6 4\n"
     ]
    }
   ],
   "source": [
    "order_mapping = {'A': a, 'B': b, 'C': c}\n",
    "\n",
    "# Rearrange integers based on desired order\n",
    "rearranged_integers = [order_mapping[letter] for letter in desired_order]\n",
    "\n",
    "# Print the rearranged integers\n",
    "print(*rearranged_integers)\n"
   ]
  },
  {
   "cell_type": "code",
   "execution_count": 29,
   "metadata": {},
   "outputs": [
    {
     "name": "stdout",
     "output_type": "stream",
     "text": [
      "1 3 5\n"
     ]
    }
   ],
   "source": [
    "lines = []\n",
    "while True:\n",
    "    try:\n",
    "        line = input()\n",
    "        if not line:\n",
    "            break  # Exit the loop if an empty line is entered\n",
    "        lines.append(line)\n",
    "    except EOFError:\n",
    "        break  # Exit the loop if the end-of-file (EOF) is reached\n",
    "\n",
    "# Print the lines that were read\n",
    "for line in lines:\n",
    "    print(line)"
   ]
  },
  {
   "cell_type": "code",
   "execution_count": 6,
   "metadata": {},
   "outputs": [
    {
     "data": {
      "text/plain": [
       "[1, 19]"
      ]
     },
     "execution_count": 6,
     "metadata": {},
     "output_type": "execute_result"
    }
   ],
   "source": [
    "a, b = [int(i) for i in input().split(' ')]"
   ]
  },
  {
   "cell_type": "code",
   "execution_count": 1,
   "metadata": {},
   "outputs": [
    {
     "name": "stdout",
     "output_type": "stream",
     "text": [
      "1\n",
      "2\n"
     ]
    }
   ],
   "source": [
    "for i in range(1,3):\n",
    "    print(i)"
   ]
  },
  {
   "cell_type": "code",
   "execution_count": 3,
   "metadata": {},
   "outputs": [],
   "source": [
    "def nChooseK_recursive(n, k):\n",
    "    if k == 0 or k == n:\n",
    "        return 1\n",
    "    if k > n:\n",
    "        return 0\n",
    "    \n",
    "    return nChooseK_recursive(n - 1, k - 1) + nChooseK_recursive(n - 1, k)"
   ]
  },
  {
   "cell_type": "code",
   "execution_count": 12,
   "metadata": {},
   "outputs": [],
   "source": [
    "def monte_carlo_pi(n):\n",
    "    sum = 0\n",
    "    d = 1\n",
    "    for i in range(n):\n",
    "        if i % 2 == 0:\n",
    "            sum += 4/d\n",
    "        else:\n",
    "            sum -= 4/d\n",
    "        d += 2\n",
    "    return sum"
   ]
  },
  {
   "cell_type": "code",
   "execution_count": 27,
   "metadata": {},
   "outputs": [],
   "source": [
    "def nChooseK_recursive(n, k):\n",
    "    if k == 0 or k == n:\n",
    "        return 1\n",
    "    if k > n:\n",
    "        return 0\n",
    "    \n",
    "    return nChooseK_recursive(n - 1, k - 1) + nChooseK_recursive(n - 1, k)\n"
   ]
  },
  {
   "cell_type": "code",
   "execution_count": 1,
   "metadata": {},
   "outputs": [],
   "source": [
    "def nChooseK(n: int, k: int) -> int:\n",
    "    \"\"\"formula for n choose k\n",
    "\n",
    "\n",
    "    Args:\n",
    "        n (int): Total number of discrete items\n",
    "        k (int): The chosen number of discrete items\n",
    "\n",
    "    Raises:\n",
    "        Exception: k cannot be negative\n",
    "\n",
    "    Returns:\n",
    "        int: _description_\n",
    "    \"\"\"\n",
    "    if k > n:\n",
    "        return 0\n",
    "    if k < 0:\n",
    "        raise Exception(\"Sorry, you cannot choose negative number of items\")\n",
    "\n",
    "    result = 1\n",
    "    for i in range(1, min(k, n - k) + 1):\n",
    "        result *= n\n",
    "        result //= i\n",
    "        n -= 1\n",
    "\n",
    "    return result"
   ]
  },
  {
   "cell_type": "code",
   "execution_count": 16,
   "metadata": {},
   "outputs": [
    {
     "ename": "OverflowError",
     "evalue": "Python int too large to convert to C int",
     "output_type": "error",
     "traceback": [
      "\u001b[0;31m---------------------------------------------------------------------------\u001b[0m",
      "\u001b[0;31mOverflowError\u001b[0m                             Traceback (most recent call last)",
      "Cell \u001b[0;32mIn[16], line 2\u001b[0m\n\u001b[1;32m      1\u001b[0m \u001b[39mimport\u001b[39;00m \u001b[39msys\u001b[39;00m\n\u001b[0;32m----> 2\u001b[0m sys\u001b[39m.\u001b[39;49mset_int_max_str_digits(\u001b[39m100000000000000000000000000\u001b[39;49m)\n",
      "\u001b[0;31mOverflowError\u001b[0m: Python int too large to convert to C int"
     ]
    }
   ],
   "source": [
    "import sys\n",
    "sys.set_int_max_str_digits(100000000000000000000000000)"
   ]
  },
  {
   "cell_type": "code",
   "execution_count": 22,
   "metadata": {},
   "outputs": [
    {
     "name": "stdout",
     "output_type": "stream",
     "text": [
      "60.9011390209198\n"
     ]
    }
   ],
   "source": [
    "import time\n",
    "start = time.time()\n",
    "nChooseK(10000000, 300000)\n",
    "end = time.time()\n",
    "print(end - start)"
   ]
  },
  {
   "cell_type": "code",
   "execution_count": 34,
   "metadata": {},
   "outputs": [
    {
     "name": "stdout",
     "output_type": "stream",
     "text": [
      "869107785\n",
      "60.87751078605652\n"
     ]
    }
   ],
   "source": [
    "\n",
    "start = time.time()\n",
    "print(nChooseK_recursive(95, 6))\n",
    "end = time.time()\n",
    "print(end - start)"
   ]
  },
  {
   "cell_type": "code",
   "execution_count": 32,
   "metadata": {},
   "outputs": [],
   "source": [
    "import random\n",
    "def monte_carlo_pi(n):\n",
    "    inside_circle = 0\n",
    "\n",
    "    for _ in range(n):\n",
    "        x = random.uniform(-1, 1)\n",
    "        y = random.uniform(-1, 1)\n",
    "        distance = x**2 + y**2\n",
    "\n",
    "        if distance <= 1:\n",
    "            inside_circle += 1\n",
    "\n",
    "    pi_approximation = (inside_circle / n) * 4\n",
    "    return pi_approximation"
   ]
  },
  {
   "cell_type": "code",
   "execution_count": 33,
   "metadata": {},
   "outputs": [
    {
     "data": {
      "text/plain": [
       "3.14024"
      ]
     },
     "execution_count": 33,
     "metadata": {},
     "output_type": "execute_result"
    }
   ],
   "source": [
    "monte_carlo_pi(100000)"
   ]
  },
  {
   "cell_type": "code",
   "execution_count": 25,
   "metadata": {},
   "outputs": [],
   "source": [
    "def matchResistors(numbers, target):\n",
    "    seen = set()\n",
    "    pairs = []\n",
    "\n",
    "    for num in numbers:\n",
    "        diff = target - num\n",
    "        if diff in seen:\n",
    "            pair = (num, diff)\n",
    "            pairs.append(tuple(sorted(pair)))\n",
    "            seen.remove(diff)\n",
    "        seen.add(num)\n",
    "\n",
    "    return pairs"
   ]
  },
  {
   "cell_type": "code",
   "execution_count": 31,
   "metadata": {},
   "outputs": [],
   "source": [
    "def matchResistors(R, n):\n",
    "    num_freq = {}\n",
    "    pairs = []\n",
    "\n",
    "    for num in R:\n",
    "        diff = n - num\n",
    "\n",
    "        if diff in num_freq and num_freq[diff] > 0:\n",
    "            pair = (num, diff)\n",
    "            pairs.append(tuple(sorted(pair)))\n",
    "            num_freq[diff] -= 1\n",
    "        else:\n",
    "            num_freq[num] = num_freq.get(num, 0) + 1\n",
    "\n",
    "    return pairs"
   ]
  },
  {
   "cell_type": "code",
   "execution_count": 33,
   "metadata": {},
   "outputs": [],
   "source": [
    "num_freq = {}\n",
    "num_freq[1] = num_freq.get(1, 0) + 1"
   ]
  },
  {
   "cell_type": "code",
   "execution_count": 37,
   "metadata": {},
   "outputs": [
    {
     "data": {
      "text/plain": [
       "1"
      ]
     },
     "execution_count": 37,
     "metadata": {},
     "output_type": "execute_result"
    }
   ],
   "source": [
    "num_freq.get(1)"
   ]
  },
  {
   "cell_type": "code",
   "execution_count": 32,
   "metadata": {},
   "outputs": [
    {
     "data": {
      "text/plain": [
       "[(10, 12), (10, 12)]"
      ]
     },
     "execution_count": 32,
     "metadata": {},
     "output_type": "execute_result"
    }
   ],
   "source": [
    "matchResistors((10,12,40,12,10),22)"
   ]
  }
 ],
 "metadata": {
  "kernelspec": {
   "display_name": "Python 3",
   "language": "python",
   "name": "python3"
  },
  "language_info": {
   "codemirror_mode": {
    "name": "ipython",
    "version": 3
   },
   "file_extension": ".py",
   "mimetype": "text/x-python",
   "name": "python",
   "nbconvert_exporter": "python",
   "pygments_lexer": "ipython3",
   "version": "3.11.4"
  },
  "orig_nbformat": 4
 },
 "nbformat": 4,
 "nbformat_minor": 2
}
