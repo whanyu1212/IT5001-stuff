{
 "cells": [
  {
   "cell_type": "markdown",
   "metadata": {},
   "source": [
    "### *Arithmetic Evaluation*"
   ]
  },
  {
   "cell_type": "code",
   "execution_count": 1,
   "metadata": {},
   "outputs": [
    {
     "name": "stdout",
     "output_type": "stream",
     "text": [
      "17\n",
      "23\n",
      "1\n",
      "24.25\n",
      "24\n"
     ]
    }
   ],
   "source": [
    "print(3 * 4 + 5)\n",
    "print(3 + 4 * 5)\n",
    "print(5 ** 3 % 4)\n",
    "print(97 / 4)\n",
    "print(97 // 4)"
   ]
  },
  {
   "cell_type": "markdown",
   "metadata": {},
   "source": [
    "### *Logical Evaluation*"
   ]
  },
  {
   "cell_type": "code",
   "execution_count": 2,
   "metadata": {},
   "outputs": [
    {
     "name": "stdout",
     "output_type": "stream",
     "text": [
      "True\n",
      "False\n",
      "True\n",
      "True\n",
      "True\n",
      "True\n",
      "False\n"
     ]
    }
   ],
   "source": [
    "print(3 + 2 == 1 + 4)\n",
    "print(4 > 4)\n",
    "print(True or False)\n",
    "print(not False)\n",
    "print(not not True)\n",
    "print(not 0)\n",
    "print(not 9999)"
   ]
  },
  {
   "cell_type": "markdown",
   "metadata": {},
   "source": [
    "### *String Evaluation*"
   ]
  },
  {
   "cell_type": "code",
   "execution_count": 3,
   "metadata": {},
   "outputs": [
    {
     "name": "stdout",
     "output_type": "stream",
     "text": [
      "abcdef\n",
      "galagalagala\n",
      "muhahahaha\n",
      "ba ba bidubidubi jam jam ba ba bidubidubi jam jam ba ba bidubidubi jam jam \n",
      "a\n",
      "na\n"
     ]
    }
   ],
   "source": [
    "print('abc' + 'def')\n",
    "print('gala' * 3)\n",
    "print('mu' + 'ha' * 4)\n",
    "print(('ba '*2+'bidu'*2+'bi ' + 'jam '*2)*3) \n",
    "print('banana'[3])\n",
    "print('banana'[2:4])"
   ]
  },
  {
   "cell_type": "markdown",
   "metadata": {},
   "source": [
    "### *Operator Precedene*"
   ]
  },
  {
   "cell_type": "code",
   "execution_count": 4,
   "metadata": {},
   "outputs": [
    {
     "name": "stdout",
     "output_type": "stream",
     "text": [
      "7\n",
      "163\n",
      "158\n",
      "False\n"
     ]
    }
   ],
   "source": [
    "print(1 + 2 * 3)\n",
    "print(1 + 2 * 3 **4)\n",
    "print(1 + 2 * 3 **4 - 5)\n",
    "print(not 0 + 1)"
   ]
  }
 ],
 "metadata": {
  "kernelspec": {
   "display_name": "Python 3",
   "language": "python",
   "name": "python3"
  },
  "language_info": {
   "codemirror_mode": {
    "name": "ipython",
    "version": 3
   },
   "file_extension": ".py",
   "mimetype": "text/x-python",
   "name": "python",
   "nbconvert_exporter": "python",
   "pygments_lexer": "ipython3",
   "version": "3.11.4"
  },
  "orig_nbformat": 4
 },
 "nbformat": 4,
 "nbformat_minor": 2
}
