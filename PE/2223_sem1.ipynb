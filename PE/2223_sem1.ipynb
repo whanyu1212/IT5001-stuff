{
 "cells": [
  {
   "cell_type": "markdown",
   "metadata": {},
   "source": [
    "#### Part 1 Fizz Buzz"
   ]
  },
  {
   "cell_type": "code",
   "execution_count": 2,
   "metadata": {},
   "outputs": [],
   "source": [
    "def fizz_i(factor1: int,n: int) -> list:\n",
    "    lst = []\n",
    "    for i in range(1,n+1):\n",
    "        if i % factor1 == 0:\n",
    "            lst.append('Fizz')\n",
    "        else:\n",
    "            lst.append(i)\n",
    "    return lst\n"
   ]
  },
  {
   "cell_type": "code",
   "execution_count": 4,
   "metadata": {},
   "outputs": [
    {
     "name": "stdout",
     "output_type": "stream",
     "text": [
      "[1, 2, 3, 'Fizz', 5, 6, 7, 'Fizz', 9, 10]\n",
      "[1, 2, 'Fizz', 4, 5, 'Fizz', 7, 8]\n"
     ]
    }
   ],
   "source": [
    "print(fizz_i(4,10))\n",
    "print(fizz_i(3,8))"
   ]
  },
  {
   "cell_type": "code",
   "execution_count": 6,
   "metadata": {},
   "outputs": [],
   "source": [
    "def fizz_r(factor1: int,n: int)->list:\n",
    "    if n <= 0:\n",
    "        return []\n",
    "    if factor1 == 0:\n",
    "        raise ValueError('factor1 cannot be 0')\n",
    "    for i in range(1,n+1):\n",
    "        if i % factor1 == 0:\n",
    "            return ['Fizz'] + fizz_r(factor1,i-1)\n",
    "        else:\n",
    "            return [i] + fizz_r(factor1,i-1)"
   ]
  },
  {
   "cell_type": "code",
   "execution_count": 7,
   "metadata": {},
   "outputs": [],
   "source": [
    "fizz_l = lambda factor1,n: [i if i % factor1 != 0 else 'Fizz' for i in range(1,n+1)]"
   ]
  }
 ],
 "metadata": {
  "kernelspec": {
   "display_name": "it5001-xvMLlpdx-py3.11",
   "language": "python",
   "name": "python3"
  },
  "language_info": {
   "codemirror_mode": {
    "name": "ipython",
    "version": 3
   },
   "file_extension": ".py",
   "mimetype": "text/x-python",
   "name": "python",
   "nbconvert_exporter": "python",
   "pygments_lexer": "ipython3",
   "version": "3.11.5"
  },
  "orig_nbformat": 4
 },
 "nbformat": 4,
 "nbformat_minor": 2
}
