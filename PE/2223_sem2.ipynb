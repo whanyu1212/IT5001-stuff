{
 "cells": [
  {
   "cell_type": "markdown",
   "metadata": {},
   "source": [
    "#### Part 1: Plinko"
   ]
  },
  {
   "cell_type": "code",
   "execution_count": null,
   "metadata": {},
   "outputs": [],
   "source": [
    "def plinko_i(seq: tuple, b: int, m: int, s: int) -> int:\n",
    "    \"\"\" Iterative solution to the plinko problem.\n",
    "    Loop through the sequence and count the number of balls that fall into each bin.\n",
    "    break once any of the bins are empty.\n",
    "\n",
    "    Args:\n",
    "        seq (tuple): a tuple of 0,1,2 representing the path of the ball\n",
    "        b (int): big prize aka bin 0\n",
    "        m (int): medium prize aka bin 1\n",
    "        s (int): small prize aka bin 2\n",
    "\n",
    "    Returns:\n",
    "        int: The number of customers that the game can support\n",
    "    \"\"\"\n",
    "    if b == 0 or m == 0 or s == 0:\n",
    "        return 0\n",
    "    counter = 0\n",
    "    for i in seq:\n",
    "        if i == 0 and b > 0:\n",
    "            b = b-1\n",
    "            counter +=1\n",
    "            if b == 0:\n",
    "                break\n",
    "        if i == 1 and m > 0:\n",
    "            m = m-1\n",
    "            counter +=1\n",
    "            if m == 0:\n",
    "                break\n",
    "        if i == 2 and s >0:\n",
    "            s = s -1\n",
    "            counter += 1\n",
    "            if s == 0:\n",
    "                break\n",
    "    return counter\n",
    "\n",
    "assert plinko_i((1, 1, 2, 2, 0, 2, 0, 1, 2, 1),2,3,5) == 7\n",
    "assert plinko_i((0,0,0,0,0,1,0,1,2),6,2,2) == 7\n",
    "assert plinko_i((0,1,2,0,1,2),3,3,2) == 6\n",
    "assert plinko_i((0,1,2,0,1,2),10,1,0) == 0"
   ]
  },
  {
   "cell_type": "code",
   "execution_count": null,
   "metadata": {},
   "outputs": [],
   "source": [
    "## The recursive way\n",
    "\n",
    "def plinko_r(seq: tuple, b: int, m: int, s:int, counter: int = 0) -> int:\n",
    "    \"\"\" Recursive solution to the plinko problem.\n",
    "\n",
    "    Args:\n",
    "        seq (tuple): tuple of 0,1,2 representing the path of the ball\n",
    "        b (int): number big prize aka bin 0\n",
    "        m (int): number medium prize aka bin 1\n",
    "        s (int): number small prize aka bin 2\n",
    "        counter (int, optional): Defaults to 0.\n",
    "\n",
    "    Returns:\n",
    "        int: the number of customers that the game can support\n",
    "    \"\"\"\n",
    "    # Base case: If any of the bins are empty, return the total count.\n",
    "    if b == 0 or m == 0 or s == 0:\n",
    "        return counter\n",
    "\n",
    "    # Base case: If the sequence is empty, return the total count.\n",
    "    if not seq:\n",
    "        return counter\n",
    "\n",
    "    # Get the first element of the sequence.\n",
    "    first = seq[0]\n",
    "\n",
    "    # Try to place the ball in the appropriate bin and make a recursive call.\n",
    "    if first == 0 and b > 0:\n",
    "        return plinko_r(seq[1:], b - 1, m, s, counter + 1)\n",
    "    elif first == 1 and m > 0:\n",
    "        return plinko_r(seq[1:], b, m - 1, s, counter + 1)\n",
    "    elif first == 2 and s > 0:\n",
    "        return plinko_r(seq[1:], b, m, s - 1, counter + 1)\n",
    "    else:\n",
    "        # If the ball cannot be placed in any bin, skip it.\n",
    "        return plinko_r(seq[1:], b, m, s, counter)\n",
    "    \n",
    "assert plinko_r((1, 1, 2, 2, 0, 2, 0, 1, 2, 1),2,3,5) == 7\n",
    "assert plinko_r((0,0,0,0,0,1,0,1,2),6,2,2) == 7\n",
    "assert plinko_r((0,1,2,0,1,2),3,3,2) == 6\n"
   ]
  },
  {
   "cell_type": "code",
   "execution_count": null,
   "metadata": {},
   "outputs": [],
   "source": [
    "def plinko_general(seq, prizes):\n",
    "    # Create a dictionary to store the number of balls in each respective bin.\n",
    "    d = {}\n",
    "    counter = 0\n",
    "\n",
    "    # Initialize the dictionary with prize counts.\n",
    "    for i, count in enumerate(prizes): \n",
    "        d[i] = count\n",
    "\n",
    "    for i in seq:\n",
    "        # Check for negative values in seq and skip them.\n",
    "        if i < 0:\n",
    "            continue\n",
    "\n",
    "        # Check if i is a valid key in the d dictionary.\n",
    "        if i in d:\n",
    "            # Check if there are available prizes in that bin (i).\n",
    "            if d[i] > 0:\n",
    "                d[i] -= 1\n",
    "                counter += 1\n",
    "                # Check if the count has reached zero.\n",
    "                if d[i] == 0:\n",
    "                    break\n",
    "\n",
    "    return counter\n",
    "\n",
    "assert plinko_general((0,1,2,0,1,2,0,1,2,2,2,1,1,0,1),(4,3,4)) == 8\n",
    "\n",
    "assert plinko_general((0,1,3,2,1,2,3,4,5,4),(2,3,3,3,1,5)) == 8\n",
    "    "
   ]
  },
  {
   "cell_type": "markdown",
   "metadata": {},
   "source": [
    "#### Part 2: Archaeologist Text Fragment Matching"
   ]
  },
  {
   "cell_type": "code",
   "execution_count": 24,
   "metadata": {},
   "outputs": [
    {
     "name": "stdout",
     "output_type": "stream",
     "text": [
      "[('boa', 'rd'), ('bo', 'ard')]\n"
     ]
    }
   ],
   "source": [
    "def fragment(filename: str, word: str) -> list:\n",
    "    \"\"\" Find fragments that can be used to form the target word.\n",
    "    create a collection (set) to store the fragments that have been\n",
    "    seen. \n",
    "    Loop through every line of the txt file, strip the escape character.\n",
    "    Check if the target word starts or ends with the current line.\n",
    "    If so, go to the seen_fragment and check if its counterpart have been\n",
    "    seen before. If so, append the pair to the list of fragments.\n",
    "    Else, add the current line to the seen_fragment set.\n",
    "\n",
    "    Args:\n",
    "        filename (str): file directory of the txt\n",
    "        word (str): target word that we want to form\n",
    "\n",
    "    Returns:\n",
    "        list: a list of tuples that contains the fragments\n",
    "    \"\"\"\n",
    "    with open(filename, \"r\") as f:\n",
    "        lines = [line.strip() for line in f]\n",
    "\n",
    "    seen_prefixes = set()\n",
    "    seen_suffixes = set()\n",
    "    pairs = set()\n",
    "\n",
    "    for line in lines:\n",
    "        if word.startswith(line):\n",
    "            suffix = word[len(line):]\n",
    "            if suffix in seen_suffixes:\n",
    "                pairs.add((line, suffix))\n",
    "            seen_prefixes.add(line)\n",
    "        elif word.endswith(line):\n",
    "            prefix = word[:-len(line)]\n",
    "            if prefix in seen_prefixes:\n",
    "                pairs.add((prefix, line))\n",
    "            seen_suffixes.add(line)\n",
    "\n",
    "    return list(pairs)\n",
    "\n",
    "print(fragment('fragment_all2.txt','board'))\n"
   ]
  },
  {
   "cell_type": "code",
   "execution_count": 25,
   "metadata": {},
   "outputs": [],
   "source": [
    "map0 = [[0, 0, 0, 0], [0, 1, 1, 0], [0, 1, 0, 0],\n",
    "        [0, 0, 0, 0], [0, 1, 1, 0], [0, 0, 0, 0]]\n",
    "map1 = [[0, 0, 1, 0, 0, 0], [0, 0, 1, 1, 1, 1], [1, 1, 0, 0, 0, 0], [0, 1, 0, 1, 1, 1], [0, 1, 0, 1, 0, 1], [0, 0, 0, 1, 0, 0], [0, 0, 0, 0, 0, 0]]\n",
    "map2a =[[1, 1, 1, 0, 1, 1], [0, 1, 0, 1, 0, 1], [0, 0, 1, 1, 0, 0], [1, 1, 1, 0, 0, 1], [1, 0, 1, 1, 1, 1], [0, 1, 0, 0, 1, 0], [0, 0, 1, 1, 0, 1]]"
   ]
  },
  {
   "cell_type": "code",
   "execution_count": 26,
   "metadata": {},
   "outputs": [
    {
     "data": {
      "text/plain": [
       "14"
      ]
     },
     "execution_count": 26,
     "metadata": {},
     "output_type": "execute_result"
    }
   ],
   "source": [
    "def total_perimeter(map:list) ->int:\n",
    "    row = len(map)\n",
    "    col = len(map[0])\n",
    "    total_perimeter = 0\n",
    "    for i in range(row):\n",
    "        for j in range(col):\n",
    "            if map[i][j] == 1:\n",
    "                total_perimeter += 4\n",
    "                # check the square above it\n",
    "                if i > 0 and map[i-1][j] == 1:\n",
    "                    total_perimeter -= 1\n",
    "                # check the square below it\n",
    "                if i < row-1 and map[i+1][j] == 1:\n",
    "                    total_perimeter -= 1\n",
    "                # check the square to the left\n",
    "                if j > 0 and map[i][j-1] == 1:\n",
    "                    total_perimeter -= 1\n",
    "                # check the square to the right \n",
    "                if j < col-1 and map[i][j+1] == 1:\n",
    "                    total_perimeter -= 1\n",
    "    return total_perimeter\n",
    "\n",
    "total_perimeter(map0)\n",
    "                "
   ]
  },
  {
   "cell_type": "code",
   "execution_count": 29,
   "metadata": {},
   "outputs": [],
   "source": [
    "def max_island_perimeter(mp):\n",
    "      row = len(mp)\n",
    "      col = len(mp[0])\n",
    "      perimeter = 0\n",
    "      visited = set()\n",
    "\n",
    "      \n",
    "      def dfs(r,c):\n",
    "            if r not in range(row) or c not in range(col) \\\n",
    "               or mp[r][c] == 0: return 1\n",
    "            if (r,c) in visited: return 0\n",
    "            if mp[r][c] == 1:\n",
    "                  visited.add((r,c))\n",
    "                  return dfs(r-1,c) + dfs(r+1,c) + dfs(r,c-1) + dfs(r,c+1)\n",
    "            return 0\n",
    "\n",
    "      for r in range(row):\n",
    "            for c in range(col):\n",
    "                  if mp[r][c] == 1:\n",
    "                        perimeter = max(perimeter, dfs(r,c))\n",
    "         \n",
    "      return perimeter"
   ]
  },
  {
   "cell_type": "code",
   "execution_count": 32,
   "metadata": {},
   "outputs": [
    {
     "data": {
      "text/plain": [
       "28"
      ]
     },
     "execution_count": 32,
     "metadata": {},
     "output_type": "execute_result"
    }
   ],
   "source": [
    "max_island_perimeter(map2a)"
   ]
  }
 ],
 "metadata": {
  "kernelspec": {
   "display_name": "it5001-xvMLlpdx-py3.11",
   "language": "python",
   "name": "python3"
  },
  "language_info": {
   "codemirror_mode": {
    "name": "ipython",
    "version": 3
   },
   "file_extension": ".py",
   "mimetype": "text/x-python",
   "name": "python",
   "nbconvert_exporter": "python",
   "pygments_lexer": "ipython3",
   "version": "3.11.5"
  },
  "orig_nbformat": 4
 },
 "nbformat": 4,
 "nbformat_minor": 2
}
